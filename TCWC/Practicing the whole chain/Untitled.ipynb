{
 "cells": [
  {
   "cell_type": "code",
   "execution_count": 1,
   "metadata": {},
   "outputs": [],
   "source": [
    "import flask\n",
    "app=flask.Flask(\"notes\")\n",
    "\n",
    "def get_html(page_name):\n",
    "    html_file=open(page_name+\".html\")\n",
    "    content=html_file.read()\n",
    "    html_file.close()\n",
    "    return content\n",
    "\n",
    "def get_username():\n",
    "    peopledb=open(\"username.txt\")\n",
    "    content=peopledb.read()\n",
    "    peopledb.close()\n",
    "    people=content.split(\"\\n\")\n",
    "    return len(people)\n",
    "\n",
    "\n",
    "@app.route(\"/\")\n",
    "def home():\n",
    "    if get_username()==0:\n",
    "        return get_html(\"index\")\n",
    "    else:\n",
    "        return get_html(\"main_page\")\n"
   ]
  },
  {
   "cell_type": "code",
   "execution_count": null,
   "metadata": {},
   "outputs": [],
   "source": []
  }
 ],
 "metadata": {
  "kernelspec": {
   "display_name": "Python 3",
   "language": "python",
   "name": "python3"
  },
  "language_info": {
   "codemirror_mode": {
    "name": "ipython",
    "version": 3
   },
   "file_extension": ".py",
   "mimetype": "text/x-python",
   "name": "python",
   "nbconvert_exporter": "python",
   "pygments_lexer": "ipython3",
   "version": "3.6.6"
  }
 },
 "nbformat": 4,
 "nbformat_minor": 2
}
